{
 "cells": [
  {
   "cell_type": "code",
   "execution_count": 1,
   "id": "7a8a42c9",
   "metadata": {},
   "outputs": [],
   "source": [
    "import os\n",
    "import numpy as np\n",
    "import pandas as pd\n",
    "from pandas import unique\n",
    "import matplotlib.pyplot as plt\n",
    "import statsmodels.api as sm\n",
    "import math\n",
    "from math import e\n",
    "from scipy.optimize import minimize\n",
    "from scipy.stats import poisson\n",
    "from scipy.special import gamma\n",
    "from scipy.special import gammaln\n",
    "from scipy.special import factorial\n",
    "from collections import Counter"
   ]
  },
  {
   "cell_type": "code",
   "execution_count": 2,
   "id": "e69ca8a2",
   "metadata": {},
   "outputs": [
    {
     "data": {
      "text/html": [
       "<div>\n",
       "<style scoped>\n",
       "    .dataframe tbody tr th:only-of-type {\n",
       "        vertical-align: middle;\n",
       "    }\n",
       "\n",
       "    .dataframe tbody tr th {\n",
       "        vertical-align: top;\n",
       "    }\n",
       "\n",
       "    .dataframe thead th {\n",
       "        text-align: right;\n",
       "    }\n",
       "</style>\n",
       "<table border=\"1\" class=\"dataframe\">\n",
       "  <thead>\n",
       "    <tr style=\"text-align: right;\">\n",
       "      <th></th>\n",
       "      <th>articles</th>\n",
       "      <th>female</th>\n",
       "      <th>married</th>\n",
       "      <th>kids</th>\n",
       "      <th>prestige</th>\n",
       "      <th>menpubs</th>\n",
       "    </tr>\n",
       "  </thead>\n",
       "  <tbody>\n",
       "    <tr>\n",
       "      <th>0</th>\n",
       "      <td>0</td>\n",
       "      <td>0</td>\n",
       "      <td>1</td>\n",
       "      <td>0</td>\n",
       "      <td>2.52</td>\n",
       "      <td>7</td>\n",
       "    </tr>\n",
       "    <tr>\n",
       "      <th>1</th>\n",
       "      <td>0</td>\n",
       "      <td>1</td>\n",
       "      <td>0</td>\n",
       "      <td>0</td>\n",
       "      <td>2.05</td>\n",
       "      <td>6</td>\n",
       "    </tr>\n",
       "    <tr>\n",
       "      <th>2</th>\n",
       "      <td>0</td>\n",
       "      <td>1</td>\n",
       "      <td>0</td>\n",
       "      <td>0</td>\n",
       "      <td>3.75</td>\n",
       "      <td>6</td>\n",
       "    </tr>\n",
       "    <tr>\n",
       "      <th>3</th>\n",
       "      <td>0</td>\n",
       "      <td>0</td>\n",
       "      <td>1</td>\n",
       "      <td>1</td>\n",
       "      <td>1.18</td>\n",
       "      <td>3</td>\n",
       "    </tr>\n",
       "    <tr>\n",
       "      <th>4</th>\n",
       "      <td>0</td>\n",
       "      <td>1</td>\n",
       "      <td>0</td>\n",
       "      <td>0</td>\n",
       "      <td>3.75</td>\n",
       "      <td>26</td>\n",
       "    </tr>\n",
       "    <tr>\n",
       "      <th>...</th>\n",
       "      <td>...</td>\n",
       "      <td>...</td>\n",
       "      <td>...</td>\n",
       "      <td>...</td>\n",
       "      <td>...</td>\n",
       "      <td>...</td>\n",
       "    </tr>\n",
       "    <tr>\n",
       "      <th>910</th>\n",
       "      <td>11</td>\n",
       "      <td>0</td>\n",
       "      <td>1</td>\n",
       "      <td>2</td>\n",
       "      <td>2.86</td>\n",
       "      <td>7</td>\n",
       "    </tr>\n",
       "    <tr>\n",
       "      <th>911</th>\n",
       "      <td>12</td>\n",
       "      <td>0</td>\n",
       "      <td>1</td>\n",
       "      <td>1</td>\n",
       "      <td>4.29</td>\n",
       "      <td>35</td>\n",
       "    </tr>\n",
       "    <tr>\n",
       "      <th>912</th>\n",
       "      <td>12</td>\n",
       "      <td>0</td>\n",
       "      <td>1</td>\n",
       "      <td>1</td>\n",
       "      <td>1.86</td>\n",
       "      <td>5</td>\n",
       "    </tr>\n",
       "    <tr>\n",
       "      <th>913</th>\n",
       "      <td>16</td>\n",
       "      <td>0</td>\n",
       "      <td>1</td>\n",
       "      <td>0</td>\n",
       "      <td>1.74</td>\n",
       "      <td>21</td>\n",
       "    </tr>\n",
       "    <tr>\n",
       "      <th>914</th>\n",
       "      <td>19</td>\n",
       "      <td>0</td>\n",
       "      <td>1</td>\n",
       "      <td>0</td>\n",
       "      <td>1.86</td>\n",
       "      <td>42</td>\n",
       "    </tr>\n",
       "  </tbody>\n",
       "</table>\n",
       "<p>915 rows × 6 columns</p>\n",
       "</div>"
      ],
      "text/plain": [
       "     articles  female  married  kids  prestige  menpubs\n",
       "0           0       0        1     0      2.52        7\n",
       "1           0       1        0     0      2.05        6\n",
       "2           0       1        0     0      3.75        6\n",
       "3           0       0        1     1      1.18        3\n",
       "4           0       1        0     0      3.75       26\n",
       "..        ...     ...      ...   ...       ...      ...\n",
       "910        11       0        1     2      2.86        7\n",
       "911        12       0        1     1      4.29       35\n",
       "912        12       0        1     1      1.86        5\n",
       "913        16       0        1     0      1.74       21\n",
       "914        19       0        1     0      1.86       42\n",
       "\n",
       "[915 rows x 6 columns]"
      ]
     },
     "execution_count": 2,
     "metadata": {},
     "output_type": "execute_result"
    }
   ],
   "source": [
    "os.chdir(r'C:\\buan6383\\data')\n",
    "rawbooks = pd.read_csv('articles.csv')\n",
    "rawbooks"
   ]
  },
  {
   "cell_type": "markdown",
   "id": "38a049c2",
   "metadata": {},
   "source": [
    "# Poisson"
   ]
  },
  {
   "cell_type": "code",
   "execution_count": 3,
   "id": "a2a5697c",
   "metadata": {},
   "outputs": [],
   "source": [
    "arti=rawbooks\n",
    "b8= np.array(arti['articles'])\n",
    "a81= np.array(arti['female'])\n",
    "a82= np.array(arti['married'])\n",
    "a83= np.array(arti['kids'])\n",
    "a84= np.array(arti['prestige'])\n",
    "a85= np.array(arti['menpubs'])\n",
    "\n"
   ]
  },
  {
   "cell_type": "code",
   "execution_count": 4,
   "id": "0ac0d795",
   "metadata": {},
   "outputs": [
    {
     "name": "stdout",
     "output_type": "stream",
     "text": [
      "  message: CONVERGENCE: REL_REDUCTION_OF_F_<=_FACTR*EPSMCH\n",
      "  success: True\n",
      "   status: 0\n",
      "      fun: 1651.0563270786183\n",
      "        x: [ 1.356e+00 -2.246e-01  1.550e-01 -1.847e-01  1.283e-02\n",
      "             2.554e-02]\n",
      "      nit: 45\n",
      "      jac: [ 5.662e-02  9.095e-03  1.496e-02  1.006e-01  2.600e-01\n",
      "             8.306e-01]\n",
      "     nfev: 406\n",
      "     njev: 58\n",
      " hess_inv: <6x6 LbfgsInvHessProduct with dtype=float64>\n"
     ]
    }
   ],
   "source": [
    "def PoisReg8(params,a81,a82,a83,a84,a85,b8):\n",
    "    lam0, beta1, beta2, beta3, beta4, beta5 = params\n",
    "    pll   = 0\n",
    "    ll1 = 0\n",
    "    ll2 = 0\n",
    "    ll3 = 0\n",
    "    for i in range(len(a81)):\n",
    "        expformula=np.exp(beta1*a81[i]+beta2*a82[i]+beta3*a83[i]+beta4*a84[i]+beta5*a85[i])\n",
    "        lam=lam0*expformula\n",
    "        kfact = float(math.factorial(int(b8[i])))\n",
    "        ll1 = ll1 + b8[i]*np.log(lam)\n",
    "        ll2 = ll2 + lam\n",
    "        ll3 = ll3 + np.log(kfact)\n",
    "    pll = ll1-ll2-ll3\n",
    "    return (-1)*pll\n",
    "  \n",
    "\n",
    "\n",
    "Pois_result8 = minimize(PoisReg8, args=(a81,a82,a83,a84,a85,b8),x0=np.array((1,1,-1,1,-1,0.001)),bounds=[(0.00001,None),(None,None),(None,None),(None,None),(None,None),(None,None)],tol=1e-10,options={'ftol':1e-8})\n",
    "\n",
    "print(Pois_result8)\n"
   ]
  },
  {
   "cell_type": "code",
   "execution_count": 5,
   "id": "57830083",
   "metadata": {},
   "outputs": [
    {
     "name": "stdout",
     "output_type": "stream",
     "text": [
      "lam0: 1.3563079599317214\n",
      "beta1: -0.22464867487897558\n",
      "beta2: 0.15503240593346085\n",
      "beta3: -0.18474839498028656\n",
      "beta4: 0.012828689593332158\n",
      "beta5: 0.025541491493694373\n",
      "log likelihood: -1651.0563270786183\n",
      "6\n"
     ]
    },
    {
     "name": "stderr",
     "output_type": "stream",
     "text": [
      "C:\\Users\\sruja\\AppData\\Local\\Temp\\ipykernel_1388\\1400655183.py:15: DeprecationWarning: Using factorial() with floats is deprecated\n",
      "  kfact = float(math.factorial(float(b8[i])))\n"
     ]
    },
    {
     "data": {
      "text/plain": [
       "915"
      ]
     },
     "execution_count": 5,
     "metadata": {},
     "output_type": "execute_result"
    }
   ],
   "source": [
    "ll1=0\n",
    "ll2=0\n",
    "ll3=0\n",
    "    \n",
    "lam0 =  Pois_result8.x[0]\n",
    "beta1 = Pois_result8.x[1]\n",
    "beta2 = Pois_result8.x[2]\n",
    "beta3 = Pois_result8.x[3]\n",
    "beta4 = Pois_result8.x[4]\n",
    "beta5 = Pois_result8.x[5]\n",
    "\n",
    "\n",
    "for i in range(len(a81)):\n",
    "    lam=lam0*math.exp(beta1*a81[i]+beta2*a82[i]+beta3*a83[i]+beta4*a84[i]+beta5*a85[i])\n",
    "    kfact = float(math.factorial(float(b8[i])))\n",
    "    ll1 = ll1 + b8[i]*np.log(lam)\n",
    "    ll2 = ll2 + lam\n",
    "    ll3 = ll3 + np.log(kfact)\n",
    "        \n",
    "        \n",
    "pll = ll1-ll2-ll3\n",
    "        \n",
    "print(\"lam0: {}\".format(lam0))\n",
    "print(\"beta1: {}\".format(beta1))\n",
    "print(\"beta2: {}\".format(beta2))\n",
    "print(\"beta3: {}\".format(beta3))\n",
    "print(\"beta4: {}\".format(beta4))\n",
    "print(\"beta5: {}\".format(beta5))\n",
    "\n",
    "print(\"log likelihood: {}\".format(pll))\n",
    "q8k = len(Pois_result8.x)\n",
    "print(q8k)\n",
    "q8n = len(arti)\n",
    "q8n"
   ]
  },
  {
   "cell_type": "markdown",
   "id": "00f6e257",
   "metadata": {},
   "source": [
    "# Question 9"
   ]
  },
  {
   "cell_type": "code",
   "execution_count": 6,
   "id": "ada9d10e",
   "metadata": {},
   "outputs": [],
   "source": [
    "def NBDReg9(params,x1,x2,x3,x4,x5,y):\n",
    "    n,alpha,nbeta1, nbeta2, nbeta3, nbeta4, nbeta5= params\n",
    "    nll=0\n",
    "    nll1=0\n",
    "    nll2=0\n",
    "    nll3=0\n",
    "    nll4=0\n",
    "    for i in range(len(x1)):\n",
    "        beta=math.exp(nbeta1*x1[i]+nbeta2*x2[i]+nbeta3*x3[i]+nbeta4*x4[i]+nbeta5*x5[i])\n",
    "        nll1=nll1+np.log(math.gamma(n+int(y[i])))\n",
    "        nll2=nll2+np.log(math.gamma(n))+np.log(factorial(int(y[i])))\n",
    "        nll3=nll3+n*(np.log(alpha)-np.log(alpha+beta))\n",
    "        nll4=nll4+int(y[i])*(np.log(beta)-np.log(alpha+beta))\n",
    "    nll=nll1-nll2+nll3+nll4\n",
    "    return nll*(-1)"
   ]
  },
  {
   "cell_type": "code",
   "execution_count": 16,
   "id": "035cff90",
   "metadata": {},
   "outputs": [
    {
     "name": "stdout",
     "output_type": "stream",
     "text": [
      "  message: CONVERGENCE: REL_REDUCTION_OF_F_<=_FACTR*EPSMCH\n",
      "  success: True\n",
      "   status: 0\n",
      "      fun: 1560.9583467794657\n",
      "        x: [ 2.265e+00  1.753e+00 -2.164e-01  1.507e-01 -1.765e-01\n",
      "             1.517e-02  2.908e-02]\n",
      "      nit: 48\n",
      "      jac: [ 7.822e-03 -7.731e-04  9.845e-03  2.797e-02 -6.457e-03\n",
      "            -7.906e-02 -6.521e-02]\n",
      "     nfev: 440\n",
      "     njev: 55\n",
      " hess_inv: <7x7 LbfgsInvHessProduct with dtype=float64>\n"
     ]
    }
   ],
   "source": [
    "NBD_result9 = minimize(NBDReg9, args=(a81,a82,a83,a84,a85,b8),x0=np.array((1,1,-1,1,-1,1,0.001)),bounds=[(0.00001,None),(0.00001,None),(None,None),(None,None),(None,None),(None,None),(None,None)],tol=1e-10,options={'ftol':1e-8})\n",
    "\n",
    "nll=0\n",
    "nll1=0\n",
    "nll2=0\n",
    "nll3=0\n",
    "nll4=0   \n",
    "n = NBD_result9.x[0]\n",
    "alpha = NBD_result9.x[1]\n",
    "beta1 = NBD_result9.x[2]\n",
    "beta2 = NBD_result9.x[3]\n",
    "beta3 = NBD_result9.x[4]\n",
    "beta4 = NBD_result9.x[5]\n",
    "beta5 = NBD_result9.x[6]\n",
    "print(NBD_result9)"
   ]
  },
  {
   "cell_type": "code",
   "execution_count": 8,
   "id": "ed49222d",
   "metadata": {},
   "outputs": [],
   "source": [
    "for i in range(len(a81)):\n",
    "    beta=math.exp(beta1*a81[i]+beta2*a82[i]+beta3*a83[i]+beta4*a84[i]+beta5*a85[i])\n",
    "    nll1=nll1+np.log(math.gamma(n+int(b8[i])))\n",
    "    nll2=nll2+np.log(math.gamma(n))+np.log(factorial(int(b8[i])))\n",
    "    nll3=nll3+n*(np.log(alpha)-np.log(alpha+beta))\n",
    "    nll4=nll4+int(b8[i])*(np.log(beta)-np.log(alpha+beta))\n",
    "nll=nll1-nll2+nll3+nll4"
   ]
  },
  {
   "cell_type": "code",
   "execution_count": 9,
   "id": "f91288b0",
   "metadata": {},
   "outputs": [
    {
     "name": "stdout",
     "output_type": "stream",
     "text": [
      "n: 2.264839359215258\n",
      "alpha: 1.7527458418322077\n",
      "beta1: -0.21635817969672408\n",
      "beta2: 0.15066810328789315\n",
      "beta3: -0.17647809371037154\n",
      "beta4: 0.015174051948067533\n",
      "beta5: 0.029083742599197177\n",
      "log likelihood: -1560.9583467794657\n",
      "7\n"
     ]
    },
    {
     "data": {
      "text/plain": [
       "915"
      ]
     },
     "execution_count": 9,
     "metadata": {},
     "output_type": "execute_result"
    }
   ],
   "source": [
    "print(\"n: {}\".format(n))\n",
    "print(\"alpha: {}\".format(alpha))\n",
    "print(\"beta1: {}\".format(beta1))\n",
    "print(\"beta2: {}\".format(beta2))\n",
    "print(\"beta3: {}\".format(beta3))\n",
    "print(\"beta4: {}\".format(beta4))\n",
    "print(\"beta5: {}\".format(beta5))\n",
    "\n",
    "print(\"log likelihood: {}\".format(nll))\n",
    "q9nll = nll\n",
    "q9k = len(NBD_result9.x)\n",
    "print(q9k)\n",
    "q9n = len(arti)\n",
    "q9n"
   ]
  },
  {
   "cell_type": "markdown",
   "id": "2d541616",
   "metadata": {},
   "source": [
    "# Question 3\n"
   ]
  },
  {
   "cell_type": "code",
   "execution_count": 10,
   "id": "faa03b92",
   "metadata": {},
   "outputs": [],
   "source": [
    "def NBDReg91(params,x1,x2,x3,x4,x5,y):\n",
    "    n,alpha,nbeta1, nbeta2, nbeta3, nbeta4, nbeta5,pi= params\n",
    "    nll=0\n",
    "    nll1=0\n",
    "    nll2=0\n",
    "    nll3=0\n",
    "    nll4=0\n",
    "    zero_val=0\n",
    "    pi_val=0\n",
    "    for i in range(len(x1)):\n",
    "        beta=math.exp(nbeta1*x1[i]+nbeta2*x2[i]+nbeta3*x3[i]+nbeta4*x4[i]+nbeta5*x5[i])\n",
    "        if y[i]==0:\n",
    "            zero_val=zero_val+np.log(pi+(1-pi)*((alpha/(alpha+beta))**n))\n",
    "        else: \n",
    "            nll1=nll1+np.log(math.gamma(n+int(y[i])))\n",
    "            nll2=nll2+np.log(math.gamma(n))+np.log(factorial(int(y[i])))\n",
    "            nll3=nll3+n*(np.log(alpha)-np.log(alpha+beta))\n",
    "            nll4=nll4+int(y[i])*(np.log(beta)-np.log(alpha+beta))\n",
    "            pi_val=pi_val+np.log(1-pi)\n",
    "    nll=nll1-nll2+nll3+nll4+pi_val+zero_val\n",
    "    return nll*(-1)"
   ]
  },
  {
   "cell_type": "code",
   "execution_count": 11,
   "id": "02b86120",
   "metadata": {},
   "outputs": [
    {
     "name": "stdout",
     "output_type": "stream",
     "text": [
      "  message: CONVERGENCE: REL_REDUCTION_OF_F_<=_FACTR*EPSMCH\n",
      "  success: True\n",
      "   status: 0\n",
      "      fun: 1560.9583467794657\n",
      "        x: [ 2.265e+00  1.753e+00 -2.164e-01  1.507e-01 -1.765e-01\n",
      "             1.517e-02  2.908e-02]\n",
      "      nit: 48\n",
      "      jac: [ 7.822e-03 -7.731e-04  9.845e-03  2.797e-02 -6.457e-03\n",
      "            -7.906e-02 -6.521e-02]\n",
      "     nfev: 440\n",
      "     njev: 55\n",
      " hess_inv: <7x7 LbfgsInvHessProduct with dtype=float64>\n"
     ]
    }
   ],
   "source": [
    "NBD_result91 = minimize(NBDReg91, args=(a81,a82,a83,a84,a85,b8),x0=np.array((1,1,-1,1,-1,1,0.01,0.3)),bounds=[(0.00001,None),(0.00001,None),(None,None),(None,None),(None,None),(None,None),(None,None),(0.000001,0.9999999)],tol=1e-10,options={'ftol':1e-8})\n",
    "print(NBD_result9)\n",
    "nll=0\n",
    "nll1=0\n",
    "nll2=0\n",
    "nll3=0\n",
    "nll4=0   \n",
    "n = NBD_result91.x[0]\n",
    "alpha = NBD_result91.x[1]\n",
    "beta1 = NBD_result91.x[2]\n",
    "beta2 = NBD_result91.x[3]\n",
    "beta3 = NBD_result91.x[4]\n",
    "beta4 = NBD_result91.x[5]\n",
    "beta5 = NBD_result91.x[6]\n",
    "pi=NBD_result91.x[7]\n",
    "q91k = len(NBD_result91.x)\n",
    "q91nll=-NBD_result91.fun"
   ]
  },
  {
   "cell_type": "code",
   "execution_count": 12,
   "id": "83ccb20b",
   "metadata": {},
   "outputs": [
    {
     "name": "stdout",
     "output_type": "stream",
     "text": [
      "n: 2.2644401537288696\n",
      "alpha: 1.7527444490669728\n",
      "beta1: -0.21641285699968965\n",
      "beta2: 0.150483474114976\n",
      "beta3: -0.17640787652409876\n",
      "beta4: 0.015270476393750766\n",
      "beta5: 0.02908230716174971\n",
      "pi:0.00000100\n",
      "8\n",
      "-1560.9583876407066\n"
     ]
    }
   ],
   "source": [
    "print(\"n: {}\".format(n))\n",
    "print(\"alpha: {}\".format(alpha))\n",
    "print(\"beta1: {}\".format(beta1))\n",
    "print(\"beta2: {}\".format(beta2))\n",
    "print(\"beta3: {}\".format(beta3))\n",
    "print(\"beta4: {}\".format(beta4))\n",
    "print(\"beta5: {}\".format(beta5))\n",
    "print(\"pi:{:.8f}\".format(pi))\n",
    "print(q91k)\n",
    "print(q91nll)"
   ]
  },
  {
   "cell_type": "markdown",
   "id": "96375639",
   "metadata": {},
   "source": [
    "# 3\n"
   ]
  },
  {
   "cell_type": "code",
   "execution_count": 13,
   "id": "3ec047d0",
   "metadata": {},
   "outputs": [
    {
     "name": "stdout",
     "output_type": "stream",
     "text": [
      "3314.1126541572366\n",
      "3343.0261985488896\n",
      "-1651.0563270786183\n",
      "6\n",
      "AIC of Poisson Regression : 3314.1126541572366\n",
      "BIC of Poisson Regression : 3343.0261985488896\n",
      "LL of Poisson Regression : -1651.0563270786183\n",
      "Parameters of Poisson Regression : 6\n"
     ]
    }
   ],
   "source": [
    "#Poisson Regression \n",
    "preg_aic = 2*q8k-2*pll\n",
    "preg_bic = q8k*math.log(q8n)-2*pll\n",
    "print(preg_aic)\n",
    "print(preg_bic)\n",
    "print(pll)\n",
    "print(q8k)\n",
    "print(\"AIC of Poisson Regression : {}\".format(preg_aic))\n",
    "print(\"BIC of Poisson Regression : {}\".format(preg_bic))\n",
    "print(\"LL of Poisson Regression : {}\".format(pll))\n",
    "print(\"Parameters of Poisson Regression : {}\".format(q8k))"
   ]
  },
  {
   "cell_type": "code",
   "execution_count": 14,
   "id": "cc4139ba",
   "metadata": {},
   "outputs": [
    {
     "name": "stdout",
     "output_type": "stream",
     "text": [
      "3135.9166935589315\n",
      "3169.64916201586\n",
      "-1560.9583467794657\n",
      "7\n",
      "AIC of NBD Regression : 3135.9166935589315\n",
      "BIC of NBD Regression : 3169.64916201586\n",
      "LL of NBD Regression : -1560.9583467794657\n",
      "Parameters of NBD Regression : 7\n"
     ]
    }
   ],
   "source": [
    "#NBD Regression\n",
    "NBDreg_aic = 2*q9k-2*q9nll\n",
    "NBDreg_bic = q9k*math.log(q9n)-2*q9nll\n",
    "print(NBDreg_aic)\n",
    "print(NBDreg_bic)\n",
    "print(q9nll)\n",
    "print(q9k)\n",
    "print(\"AIC of NBD Regression : {}\".format(NBDreg_aic))\n",
    "print(\"BIC of NBD Regression : {}\".format(NBDreg_bic))\n",
    "print(\"LL of NBD Regression : {}\".format(q9nll))\n",
    "print(\"Parameters of NBD Regression : {}\".format(q9k))"
   ]
  },
  {
   "cell_type": "code",
   "execution_count": 15,
   "id": "54e9f895",
   "metadata": {
    "scrolled": true
   },
   "outputs": [
    {
     "name": "stdout",
     "output_type": "stream",
     "text": [
      "3137.9167752814133\n",
      "3176.4681678036172\n",
      "-1560.9583467794657\n",
      "8\n",
      "AIC of Zi_NBD Regression : 3137.9167752814133\n",
      "BIC of Zi_NBD Regression : 3176.4681678036172\n",
      "LL of Zi_NBD Regression : -1560.9583876407066\n",
      "Parameters of Zi_NBD Regression : 8\n"
     ]
    }
   ],
   "source": [
    "#Zero-inflated NBD Regression\n",
    "Zi_NBDreg_aic = 2*q91k-2*q91nll\n",
    "Zi_NBDreg_bic = q91k*math.log(q9n)-2*q91nll\n",
    "print(Zi_NBDreg_aic)\n",
    "print(Zi_NBDreg_bic)\n",
    "print(q9nll)\n",
    "print(q91k)\n",
    "print(\"AIC of Zi_NBD Regression : {}\".format(Zi_NBDreg_aic))\n",
    "print(\"BIC of Zi_NBD Regression : {}\".format(Zi_NBDreg_bic))\n",
    "print(\"LL of Zi_NBD Regression : {}\".format(q91nll))\n",
    "print(\"Parameters of Zi_NBD Regression : {}\".format(q91k))"
   ]
  },
  {
   "cell_type": "code",
   "execution_count": null,
   "id": "8041c3e5",
   "metadata": {},
   "outputs": [],
   "source": []
  }
 ],
 "metadata": {
  "kernelspec": {
   "display_name": "Python 3 (ipykernel)",
   "language": "python",
   "name": "python3"
  },
  "language_info": {
   "codemirror_mode": {
    "name": "ipython",
    "version": 3
   },
   "file_extension": ".py",
   "mimetype": "text/x-python",
   "name": "python",
   "nbconvert_exporter": "python",
   "pygments_lexer": "ipython3",
   "version": "3.9.16"
  }
 },
 "nbformat": 4,
 "nbformat_minor": 5
}
